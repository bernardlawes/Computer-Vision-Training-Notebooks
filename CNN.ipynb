{
  "nbformat": 4,
  "nbformat_minor": 0,
  "metadata": {
    "colab": {
      "provenance": [],
      "gpuType": "T4",
      "authorship_tag": "ABX9TyOnM90ReBuyCAXVO49CeTue",
      "include_colab_link": true
    },
    "kernelspec": {
      "name": "python3",
      "display_name": "Python 3"
    },
    "language_info": {
      "name": "python"
    },
    "accelerator": "GPU"
  },
  "cells": [
    {
      "cell_type": "markdown",
      "metadata": {
        "id": "view-in-github",
        "colab_type": "text"
      },
      "source": [
        "<a href=\"https://colab.research.google.com/github/bernardlawes/Python-PyTorch-DeepLearning/blob/main/CNN.ipynb\" target=\"_parent\"><img src=\"https://colab.research.google.com/assets/colab-badge.svg\" alt=\"Open In Colab\"/></a>"
      ]
    },
    {
      "cell_type": "code",
      "execution_count": null,
      "metadata": {
        "id": "G8maJS1jJjZJ"
      },
      "outputs": [],
      "source": [
        "import torch\n",
        "import torch.nn as nn\n",
        "import torch.nn.functional as f\n",
        "from torch.utils.data import DataLoader\n",
        "from torchvision import datasets, transforms\n",
        "from torchvision.utils import make_grid\n",
        "\n",
        "import numpy as np\n",
        "import pandas as pd\n",
        "from sklearn.metrics import confusion_matrix\n",
        "import matplotlib.pyplot as plt\n",
        "%matplotlib inline"
      ]
    },
    {
      "cell_type": "code",
      "source": [
        "# Convert MNIST Image Files into a Tensor of 4 Dimensions (# of images, Height, Width, Color Channel)\n",
        "\n",
        "transform = transforms.ToTensor()"
      ],
      "metadata": {
        "id": "8hqjYBL6Vrnu"
      },
      "execution_count": null,
      "outputs": []
    },
    {
      "cell_type": "code",
      "source": [
        "# Train Data - note that datasets is the container that grants us access to MNIST and other datasets available through Torch\n",
        "\n",
        "train_data = datasets.MNIST(root='/cnn_data', train=True, download=True, transform=transform)"
      ],
      "metadata": {
        "id": "kdbDv9IyWFQV"
      },
      "execution_count": null,
      "outputs": []
    },
    {
      "cell_type": "code",
      "source": [
        "# Test Data\n",
        "\n",
        "test_data = datasets.MNIST(root='/cnn_data', train=False, download=True, transform=transform)"
      ],
      "metadata": {
        "id": "3Og63jqFWc4D"
      },
      "execution_count": null,
      "outputs": []
    },
    {
      "cell_type": "code",
      "source": [
        "train_data"
      ],
      "metadata": {
        "id": "pJDippAWWt3q"
      },
      "execution_count": null,
      "outputs": []
    },
    {
      "cell_type": "code",
      "source": [
        "test_data"
      ],
      "metadata": {
        "id": "iSNwqzDDW4Hj"
      },
      "execution_count": null,
      "outputs": []
    },
    {
      "cell_type": "markdown",
      "source": [
        "## Step by Step before we Build out Model for Illustrative Purposes"
      ],
      "metadata": {
        "id": "lshH_2A6Y1SW"
      }
    },
    {
      "cell_type": "code",
      "source": [
        "# Create a small batch size for images ... let's say 10\n",
        "train_loader = DataLoader(train_data, batch_size=10, shuffle=True)\n",
        "test_loader = DataLoader(test_data, batch_size=10, shuffle=False)"
      ],
      "metadata": {
        "id": "7AkYPeuYYKOQ"
      },
      "execution_count": null,
      "outputs": []
    },
    {
      "cell_type": "code",
      "source": [
        "# Define our CNN Model - we won't build CNN model here..  we will go about it step by step for this example\n",
        "# Descrbe Convolutional layer and what it is doing (2 convolutional layers)\n",
        "# this is just an example to illustrate how it all works\n",
        "\n",
        "conv1 = nn.Conv2d(in_channels=1, out_channels=6, kernel_size=3, stride=1)   # 6 output channels represents 6 filters\n",
        "conv2 = nn.Conv2d(in_channels=6, out_channels=16, kernel_size=3, stride=1)  # 6 outputs will become 6 inputs for this layer"
      ],
      "metadata": {
        "id": "gnsCimgXZMe0"
      },
      "execution_count": null,
      "outputs": []
    },
    {
      "cell_type": "code",
      "source": [
        "# Grab 1 MNIST record / image\n",
        "for i, (X_train, y_train) in enumerate(train_data):\n",
        "    break"
      ],
      "metadata": {
        "id": "ku0uo5x6Z3hM"
      },
      "execution_count": null,
      "outputs": []
    },
    {
      "cell_type": "code",
      "source": [
        "X_train"
      ],
      "metadata": {
        "id": "wJ1FprTRZ-I3"
      },
      "execution_count": null,
      "outputs": []
    },
    {
      "cell_type": "code",
      "source": [
        "X_train.shape"
      ],
      "metadata": {
        "id": "rLIANTTQaApn"
      },
      "execution_count": null,
      "outputs": []
    },
    {
      "cell_type": "code",
      "source": [
        "# It is curently a 1D image, we want to change it into a 4D torch\n",
        "\n",
        "X = X_train.view(1,1,28,28)"
      ],
      "metadata": {
        "id": "Igarr0rgaD5G"
      },
      "execution_count": null,
      "outputs": []
    },
    {
      "cell_type": "code",
      "source": [
        "X = f.relu(conv1(X)) # rectified lineawr unit for our activation function"
      ],
      "metadata": {
        "id": "pjlVgUkQaS5Z"
      },
      "execution_count": null,
      "outputs": []
    },
    {
      "cell_type": "code",
      "source": [
        "X.shape"
      ],
      "metadata": {
        "id": "rbFVZxPLae-j"
      },
      "execution_count": null,
      "outputs": []
    },
    {
      "cell_type": "code",
      "source": [
        "# we can see that we have 1 single image, 6 filters, 26x26 is now the image size (notice the difference is because there is no padding -\n",
        "# we don't need it for this case) - in real world use cases, we usually will need it"
      ],
      "metadata": {
        "id": "5qrBeBmNagIK"
      },
      "execution_count": null,
      "outputs": []
    },
    {
      "cell_type": "code",
      "source": [
        "# pass through our poolling layer\n",
        "X = f.max_pool2d(X, 2, 2) # kernal size of 2 and stride of 2"
      ],
      "metadata": {
        "id": "NCDQXYqUa3O1"
      },
      "execution_count": null,
      "outputs": []
    },
    {
      "cell_type": "code",
      "source": [
        "X.shape"
      ],
      "metadata": {
        "id": "9sxFMynybRGb"
      },
      "execution_count": null,
      "outputs": []
    },
    {
      "cell_type": "code",
      "source": [
        "# After poolling, the data is shrunk by 2 because the kernal size and stride is 2 and 2 respectively"
      ],
      "metadata": {
        "id": "YG5q2_f9bToP"
      },
      "execution_count": null,
      "outputs": []
    },
    {
      "cell_type": "code",
      "source": [
        "# Let's Do our Second Convolutional Layer\n",
        "\n",
        "X = f.relu(conv2(X))"
      ],
      "metadata": {
        "id": "mjIBsqmPbhGX"
      },
      "execution_count": null,
      "outputs": []
    },
    {
      "cell_type": "code",
      "source": [
        "X.shape"
      ],
      "metadata": {
        "id": "P3uw17eQbrZp"
      },
      "execution_count": null,
      "outputs": []
    },
    {
      "cell_type": "code",
      "source": [
        "# again, due to no padding, the image shrinks further because we lose 2 pixels around the outside of the image"
      ],
      "metadata": {
        "id": "xFow4vyTbzOy"
      },
      "execution_count": null,
      "outputs": []
    },
    {
      "cell_type": "code",
      "source": [
        "#Pooling Layer\n",
        "X = f.max_pool2d(X, 2, 2)"
      ],
      "metadata": {
        "id": "YHnZSfSsb5lw"
      },
      "execution_count": null,
      "outputs": []
    },
    {
      "cell_type": "code",
      "source": [
        "X.shape"
      ],
      "metadata": {
        "id": "AX6xLGQ9cB-Y"
      },
      "execution_count": null,
      "outputs": []
    },
    {
      "cell_type": "code",
      "source": [
        "# Original image was 28 pixels, lost 2 by conv, lost half by pooling, lost another 2 by conv, and half again by pooling\n",
        "((28-2)/2-2)/2"
      ],
      "metadata": {
        "id": "K1kI1uhCcDyk"
      },
      "execution_count": null,
      "outputs": []
    },
    {
      "cell_type": "markdown",
      "source": [
        "# Build out the actual model to go through all images"
      ],
      "metadata": {
        "id": "pZaRerLadcj3"
      }
    },
    {
      "cell_type": "code",
      "source": [
        "class ConvolutionalNetwork(nn.Module):\n",
        "  def __init__(self):\n",
        "    super().__init__()\n",
        "    self.conv1 = nn.Conv2d(in_channels=1, out_channels=6, kernel_size=3, stride=1)\n",
        "    self.conv2 = nn.Conv2d(in_channels=6, out_channels=16, kernel_size=3, stride=1)\n",
        "    # Fully Connected Layers\n",
        "    self.fc1 = nn.Linear(in_features=400, out_features=120) # 5*5*16 - the output fom the extraction\n",
        "    self.fc2 = nn.Linear(in_features=120, out_features=84)\n",
        "    self.fc3 = nn.Linear(in_features=84, out_features=10)\n",
        "\n",
        "  # Note the lowercase X so it doesn't confuse with the capital X used in the step by step section of this colab\n",
        "  def forward(self, x):\n",
        "    x = f.relu(self.conv1(x))\n",
        "    x = f.max_pool2d(x, 2, 2) # 2x2 kernal and stride 2\n",
        "    # Second Pass\n",
        "    x = f.relu(self.conv2(x))\n",
        "    x = f.max_pool2d(x, 2, 2) # 2x2 kernal and stride 2\n",
        "\n",
        "    # Re-view to flatten it out\n",
        "    x = x.view(-1, 400)  # negative so that we can vary the batch size\n",
        "\n",
        "    # Fully Connected Layers\n",
        "    x = f.relu(self.fc1(x))\n",
        "    x = f.relu(self.fc2(x))\n",
        "    x = self.fc3(x)\n",
        "\n",
        "    return f.log_softmax(x, dim=1)"
      ],
      "metadata": {
        "id": "xmtE-h1bc5RZ"
      },
      "execution_count": null,
      "outputs": []
    },
    {
      "cell_type": "code",
      "source": [
        "# Create an Instance of our Model\n",
        "\n",
        "seed = 41\n",
        "\n",
        "torch.manual_seed(seed)\n",
        "model = ConvolutionalNetwork()\n",
        "model"
      ],
      "metadata": {
        "id": "QAHugkurfcwR"
      },
      "execution_count": null,
      "outputs": []
    },
    {
      "cell_type": "code",
      "source": [
        "# Loss function optimizer\n",
        "criterion = nn.CrossEntropyLoss()\n",
        "optimizer = torch.optim.Adam(model.parameters(), lr=0.001) #smaller the learning rate - the longer it going to train"
      ],
      "metadata": {
        "id": "UQHrT3aEfo0T"
      },
      "execution_count": null,
      "outputs": []
    },
    {
      "cell_type": "code",
      "source": [
        "import time # so that we can keep track of time\n",
        "\n",
        "start_time = time.time()\n",
        "\n",
        "# Create variables to track things\n",
        "epochs = 5\n",
        "train_losses = [] # empty python list\n",
        "test_losses = []\n",
        "train_correct = []\n",
        "test_correct = []\n",
        "\n",
        "# For Loop of Epochs\n",
        "for i in range(epochs):\n",
        "  trn_corr = 0 # train correct\n",
        "  tst_corr = 0 # test correct\n",
        "\n",
        "  # Train\n",
        "\n",
        "  for b, (X_train, y_train) in enumerate(train_loader):\n",
        "    b+=1 # start our batches at 1\n",
        "\n",
        "    y_pred = model(X_train) # get predcited values from traiing set.  Not flattened, it is 2D\n",
        "    loss = criterion(y_pred, y_train) # how off are we?  Compare the predictions to the correct answers in y_train\n",
        "\n",
        "    predicted = torch.max(y_pred.data,1)[1] # add up the number of correct preditions. Indexed off of first point\n",
        "    batch_corr = (predicted == y_train).sum() # how mahy we got correct from this batch. True = 1. False = 0.\n",
        "    trn_corr += batch_corr # keep track as we go along in training\n",
        "\n",
        "    # Update our parameters\n",
        "    optimizer.zero_grad()\n",
        "    loss.backward()\n",
        "    optimizer.step()\n",
        "\n",
        "    # Print out our results\n",
        "    if b%600 == 0:\n",
        "      print(f'Epoch: {i} | Batch: {b} | Loss: {loss.item()}')\n",
        "\n",
        "  train_losses.append(loss)\n",
        "  train_correct.append(trn_corr)\n",
        "\n",
        "  # Test\n",
        "  with torch.no_grad(): # No gradient so that we don't update our weights and biases during test iterations\n",
        "    for b, (X_test, y_test) in enumerate(test_loader): # test_loader instead of train_loader\n",
        "      y_val = model(X_test) #\n",
        "      predicted = torch.max(y_val.data, 1)[1] # adding up correct preditions\n",
        "      tst_corr += (predicted == y_test).sum() # True = 1, False = 0, then sum\n",
        "\n",
        "  loss = criterion(y_val, y_test)\n",
        "  test_losses.append(loss)\n",
        "  test_correct.append(tst_corr)\n",
        "\n",
        "current_time = time.time()\n",
        "total_time = current_time - start_time\n",
        "\n",
        "print(f'Training Tool: {total_time} minutes |')"
      ],
      "metadata": {
        "id": "WHN2GceOgBSH"
      },
      "execution_count": null,
      "outputs": []
    },
    {
      "cell_type": "code",
      "source": [],
      "metadata": {
        "id": "qj438ePtj6bm"
      },
      "execution_count": null,
      "outputs": []
    },
    {
      "cell_type": "code",
      "source": [],
      "metadata": {
        "id": "-C5UuDgim2tU"
      },
      "execution_count": null,
      "outputs": []
    }
  ]
}