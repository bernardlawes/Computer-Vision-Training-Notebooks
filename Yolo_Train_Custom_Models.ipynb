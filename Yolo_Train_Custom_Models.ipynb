{
  "nbformat": 4,
  "nbformat_minor": 0,
  "metadata": {
    "colab": {
      "provenance": [],
      "gpuType": "T4",
      "authorship_tag": "ABX9TyMsfU7B37TEOlAZDS/4K9QG",
      "include_colab_link": true
    },
    "kernelspec": {
      "name": "python3",
      "display_name": "Python 3"
    },
    "language_info": {
      "name": "python"
    },
    "accelerator": "GPU"
  },
  "cells": [
    {
      "cell_type": "markdown",
      "metadata": {
        "id": "view-in-github",
        "colab_type": "text"
      },
      "source": [
        "<a href=\"https://colab.research.google.com/github/bernardlawes/Model-Training-Notebooks/blob/main/Yolo_Train_Custom_Models.ipynb\" target=\"_parent\"><img src=\"https://colab.research.google.com/assets/colab-badge.svg\" alt=\"Open In Colab\"/></a>"
      ]
    },
    {
      "cell_type": "markdown",
      "source": [
        "# Train a Custom YOLO Model\n",
        "Author: Bernard Lawes bernardlawes@gmail.com"
      ],
      "metadata": {
        "id": "wKVMFDhL3cGD"
      }
    },
    {
      "cell_type": "markdown",
      "source": [
        "## Verify NVIDIA GPU Availability\n",
        "Ensure that you are using GPU in your Google Colab Notebook."
      ],
      "metadata": {
        "id": "JOOMK96K4N46"
      }
    },
    {
      "cell_type": "code",
      "execution_count": null,
      "metadata": {
        "collapsed": true,
        "id": "nXmZ9Aj03IOl"
      },
      "outputs": [],
      "source": [
        "!nvidia-smi"
      ]
    },
    {
      "cell_type": "markdown",
      "source": [
        "## Gather and Label Training Images\n",
        "Consider using a product like Label Studio to manually label your data or acquire existing datasets from Roboflow.  The advantage of the latter being some dataset are already labeled.  Alternatively, Kaggle or Goole Images V7.  For the sake of time I will use a pre-labeled dataset found in Roboflow."
      ],
      "metadata": {
        "id": "4eZZzjrF4i4Y"
      }
    },
    {
      "cell_type": "code",
      "source": [
        "!pip install ultralytics\n",
        "!pip install roboflow"
      ],
      "metadata": {
        "id": "wCKdd2SX8hU9"
      },
      "execution_count": null,
      "outputs": []
    },
    {
      "cell_type": "code",
      "source": [
        "import ultralytics\n",
        "from roboflow import Roboflow\n",
        "from ultralytics import YOLO\n",
        "from IPython.display import Image"
      ],
      "metadata": {
        "id": "D39CFnsw82nR"
      },
      "execution_count": null,
      "outputs": []
    },
    {
      "cell_type": "code",
      "source": [
        "from roboflow import Roboflow\n",
        "rf = Roboflow(api_key=userdata.get('ROBOFLOW_API_KEY'))\n",
        "project = rf.workspace(\"pest-vision-major\").project(\"pest-vision-major-zfqvh\")\n",
        "version = project.version(6)\n",
        "dataset = version.download(\"yolov11\")"
      ],
      "metadata": {
        "id": "-uzdBknx4LLu"
      },
      "execution_count": null,
      "outputs": []
    }
  ]
}