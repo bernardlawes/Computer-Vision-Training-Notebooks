{
  "nbformat": 4,
  "nbformat_minor": 0,
  "metadata": {
    "colab": {
      "provenance": [],
      "gpuType": "T4",
      "authorship_tag": "ABX9TyNiyOMEG6wvWLPu0ah1DZS6",
      "include_colab_link": true
    },
    "kernelspec": {
      "name": "python3",
      "display_name": "Python 3"
    },
    "language_info": {
      "name": "python"
    },
    "accelerator": "GPU"
  },
  "cells": [
    {
      "cell_type": "markdown",
      "metadata": {
        "id": "view-in-github",
        "colab_type": "text"
      },
      "source": [
        "<a href=\"https://colab.research.google.com/github/bernardlawes/PyTorch-DeepLearning/blob/main/CNN_Model.ipynb\" target=\"_parent\"><img src=\"https://colab.research.google.com/assets/colab-badge.svg\" alt=\"Open In Colab\"/></a>"
      ]
    },
    {
      "cell_type": "code",
      "execution_count": null,
      "metadata": {
        "id": "w2YvLZ5Unto7"
      },
      "outputs": [],
      "source": [
        "import torch\n",
        "import torch.nn as nn\n",
        "import torch.nn.functional as f\n",
        "from torch.utils.data import DataLoader\n",
        "from torchvision import datasets, transforms\n",
        "from torchvision.utils import make_grid\n",
        "\n",
        "import numpy as np\n",
        "import pandas as pd\n",
        "from sklearn.metrics import confusion_matrix\n",
        "import matplotlib.pyplot as plt\n",
        "%matplotlib inline"
      ]
    },
    {
      "cell_type": "code",
      "source": [
        "# Convert MNIST Image Files into a Tensor of 4 Dimensions (# of images, Height, Width, Color Channel)\n",
        "transform = transforms.ToTensor()\n",
        "# Train Data - note that datasets is the container that grants us access to MNIST and other datasets available through Torch\n",
        "train_data = datasets.MNIST(root='/cnn_data', train=True, download=True, transform=transform)\n",
        "# Test Data\n",
        "test_data = datasets.MNIST(root='/cnn_data', train=False, download=True, transform=transform)"
      ],
      "metadata": {
        "id": "HekbIJyRn18I"
      },
      "execution_count": null,
      "outputs": []
    },
    {
      "cell_type": "code",
      "source": [
        "train_data"
      ],
      "metadata": {
        "id": "-sW_Ufbzn-n-"
      },
      "execution_count": null,
      "outputs": []
    },
    {
      "cell_type": "code",
      "source": [
        "test_data"
      ],
      "metadata": {
        "id": "v4izC6x3oOT7"
      },
      "execution_count": null,
      "outputs": []
    },
    {
      "cell_type": "code",
      "source": [
        "# Create a small batch size for images ... let's say 10\n",
        "train_loader = DataLoader(train_data, batch_size=10, shuffle=True)\n",
        "test_loader = DataLoader(test_data, batch_size=10, shuffle=False)"
      ],
      "metadata": {
        "id": "OVcCrD60oPJw"
      },
      "execution_count": null,
      "outputs": []
    },
    {
      "cell_type": "code",
      "source": [
        "# Define our CNN Model - we won't build CNN model here..  we will go about it step by step for this example\n",
        "# Descrbe Convolutional layer and what it is doing (2 convolutional layers)\n",
        "# this is just an example to illustrate how it all works\n",
        "\n",
        "conv1 = nn.Conv2d(in_channels=1, out_channels=6, kernel_size=3, stride=1)   # 6 output channels represents 6 filters\n",
        "conv2 = nn.Conv2d(in_channels=6, out_channels=16, kernel_size=3, stride=1)  # 6 outputs will become 6 inputs for this layer"
      ],
      "metadata": {
        "id": "Do7iyXavodJa"
      },
      "execution_count": null,
      "outputs": []
    },
    {
      "cell_type": "code",
      "source": [
        "class ConvolutionalNetwork(nn.Module):\n",
        "  def __init__(self):\n",
        "    super().__init__()\n",
        "    self.conv1 = nn.Conv2d(in_channels=1, out_channels=6, kernel_size=3, stride=1)\n",
        "    self.conv2 = nn.Conv2d(in_channels=6, out_channels=16, kernel_size=3, stride=1)\n",
        "    # Fully Connected Layers\n",
        "    self.fc1 = nn.Linear(in_features=400, out_features=120) # 5*5*16 - the output fom the extraction\n",
        "    self.fc2 = nn.Linear(in_features=120, out_features=84)\n",
        "    self.fc3 = nn.Linear(in_features=84, out_features=10)\n",
        "\n",
        "  # Note the lowercase X so it doesn't confuse with the capital X used in the step by step section of this colab\n",
        "  def forward(self, x):\n",
        "    x = f.relu(self.conv1(x))\n",
        "    x = f.max_pool2d(x, 2, 2) # 2x2 kernal and stride 2\n",
        "    # Second Pass\n",
        "    x = f.relu(self.conv2(x))\n",
        "    x = f.max_pool2d(x, 2, 2) # 2x2 kernal and stride 2\n",
        "\n",
        "    # Re-view to flatten it out\n",
        "    x = x.view(-1, 400)  # negative so that we can vary the batch size\n",
        "\n",
        "    # Fully Connected Layers\n",
        "    x = f.relu(self.fc1(x))\n",
        "    x = f.relu(self.fc2(x))\n",
        "    x = self.fc3(x)\n",
        "\n",
        "    return f.log_softmax(x, dim=1)"
      ],
      "metadata": {
        "id": "WpCD2dsjod1J"
      },
      "execution_count": null,
      "outputs": []
    },
    {
      "cell_type": "code",
      "source": [
        "# Create an Instance of our Model\n",
        "seed = 41\n",
        "torch.manual_seed(seed)\n",
        "model = ConvolutionalNetwork()\n",
        "model"
      ],
      "metadata": {
        "id": "Csd6RaTkon_k"
      },
      "execution_count": null,
      "outputs": []
    },
    {
      "cell_type": "code",
      "source": [
        "# Loss function optimizer\n",
        "criterion = nn.CrossEntropyLoss()\n",
        "optimizer = torch.optim.Adam(model.parameters(), lr=0.001) #smaller the learning rate - the longer it going to train"
      ],
      "metadata": {
        "id": "CvnBaqx1or8-"
      },
      "execution_count": null,
      "outputs": []
    },
    {
      "cell_type": "code",
      "source": [
        "import time # so that we can keep track of time\n",
        "\n",
        "start_time = time.time()\n",
        "\n",
        "# Create variables to track things\n",
        "epochs = 5\n",
        "train_losses = [] # empty python list\n",
        "test_losses = []\n",
        "train_correct = []\n",
        "test_correct = []\n",
        "\n",
        "# For Loop of Epochs\n",
        "for i in range(epochs):\n",
        "  trn_corr = 0 # train correct\n",
        "  tst_corr = 0 # test correct\n",
        "\n",
        "  # Train\n",
        "\n",
        "  for b, (X_train, y_train) in enumerate(train_loader):\n",
        "    b+=1 # start our batches at 1\n",
        "\n",
        "    y_pred = model(X_train) # get predcited values from traiing set.  Not flattened, it is 2D\n",
        "    loss = criterion(y_pred, y_train) # how off are we?  Compare the predictions to the correct answers in y_train\n",
        "\n",
        "    predicted = torch.max(y_pred.data,1)[1] # add up the number of correct preditions. Indexed off of first point\n",
        "    batch_corr = (predicted == y_train).sum() # how mahy we got correct from this batch. True = 1. False = 0.\n",
        "    trn_corr += batch_corr # keep track as we go along in training\n",
        "\n",
        "    # Update our parameters\n",
        "    optimizer.zero_grad()\n",
        "    loss.backward()\n",
        "    optimizer.step()\n",
        "\n",
        "    # Print out our results\n",
        "    if b%600 == 0:\n",
        "      print(f'Epoch: {i} | Batch: {b} | Loss: {loss.item()}')\n",
        "\n",
        "  train_losses.append(loss)\n",
        "  train_correct.append(trn_corr)\n",
        "\n",
        "  # Test\n",
        "  with torch.no_grad(): # No gradient so that we don't update our weights and biases during test iterations\n",
        "    for b, (X_test, y_test) in enumerate(test_loader): # test_loader instead of train_loader\n",
        "      y_val = model(X_test) #\n",
        "      predicted = torch.max(y_val.data, 1)[1] # adding up correct preditions\n",
        "      tst_corr += (predicted == y_test).sum() # True = 1, False = 0, then sum\n",
        "\n",
        "  loss = criterion(y_val, y_test)\n",
        "  test_losses.append(loss)\n",
        "  test_correct.append(tst_corr)\n",
        "\n",
        "current_time = time.time()\n",
        "total_time = current_time - start_time\n",
        "\n",
        "print(f'Training Tool: {total_time} minutes |')"
      ],
      "metadata": {
        "id": "jv_qn8j2oySh"
      },
      "execution_count": null,
      "outputs": []
    },
    {
      "cell_type": "code",
      "source": [
        "# Graph the loss at epoch\n",
        "\n",
        "train_losses = [t.detach().numpy() for t in train_losses]\n",
        "plt.plot(train_losses, label='Training Loss')\n",
        "plt.plot(test_losses, label='Testing Loss')\n",
        "plt.title('Training and Testing Loss')\n",
        "plt.legend()"
      ],
      "metadata": {
        "id": "IBbuVARRo4tE"
      },
      "execution_count": null,
      "outputs": []
    },
    {
      "cell_type": "code",
      "source": [
        "# Graph the accuracy at the end of each epoch\n",
        "\n",
        "plt.plot([i/600 for i in train_correct], label='Training Accuracy')\n",
        "plt.plot([i/100 for i in test_correct], label='Testing Accuracy')\n",
        "plt.title('Training and Testing Accuracy')\n",
        "plt.legend()"
      ],
      "metadata": {
        "id": "Rns3tGrMrs2u"
      },
      "execution_count": null,
      "outputs": []
    },
    {
      "cell_type": "code",
      "source": [
        "test_load_everything = DataLoader(test_data, batch_size=10000, shuffle=False)"
      ],
      "metadata": {
        "id": "BJuLCoSQsAkJ"
      },
      "execution_count": null,
      "outputs": []
    },
    {
      "cell_type": "code",
      "source": [
        "with torch.no_grad():\n",
        "  correct = 0\n",
        "  for X_test, y_test in test_load_everything:\n",
        "    y_val = model(X_test)\n",
        "    predicted = torch.max(y_val, 1)[1]\n",
        "    correct += (predicted == y_test).sum()"
      ],
      "metadata": {
        "id": "KOAqjs3JsZzX"
      },
      "execution_count": null,
      "outputs": []
    },
    {
      "cell_type": "code",
      "source": [
        "# Test for Correct\n",
        "\n",
        "correct.item()"
      ],
      "metadata": {
        "id": "7ku1TgEEsrX3"
      },
      "execution_count": null,
      "outputs": []
    },
    {
      "cell_type": "code",
      "source": [
        "# Percentage Correct\n",
        "100*correct.item()/10000"
      ],
      "metadata": {
        "id": "3m7r7Ku2s326"
      },
      "execution_count": null,
      "outputs": []
    },
    {
      "cell_type": "markdown",
      "source": [
        "# Run Inference through the Model\n"
      ],
      "metadata": {
        "id": "iPNHkkkWuJB8"
      }
    },
    {
      "cell_type": "code",
      "source": [
        "# Grab an Image Tensor - note that it includes the Label at the very end\n",
        "test_data[4143] # Tensor with an image in it"
      ],
      "metadata": {
        "id": "Q65-zKzuuGpU"
      },
      "execution_count": null,
      "outputs": []
    },
    {
      "cell_type": "code",
      "source": [
        "# Grab just the data, because we don't want the label\n",
        "test_data[4143][0]"
      ],
      "metadata": {
        "id": "rYsNMqhNuoQN"
      },
      "execution_count": null,
      "outputs": []
    },
    {
      "cell_type": "code",
      "source": [
        "#Reshape the data into a 28x28 image\n",
        "test_data[4143][0].reshape(28,28)"
      ],
      "metadata": {
        "id": "KkpgyCaFuz3N"
      },
      "execution_count": null,
      "outputs": []
    },
    {
      "cell_type": "code",
      "source": [
        "plt.imshow(test_data[4143][0].reshape(28,28), cmap='gray')"
      ],
      "metadata": {
        "id": "9hcNb-_WvWqn"
      },
      "execution_count": null,
      "outputs": []
    },
    {
      "cell_type": "code",
      "source": [
        "plt.imshow(test_data[4143][0].reshape(28,28))"
      ],
      "metadata": {
        "id": "P7JM9sZRvmjW"
      },
      "execution_count": null,
      "outputs": []
    },
    {
      "cell_type": "code",
      "source": [
        "model.eval()\n",
        "with torch.no_grad():\n",
        "  new_prediction = model(test_data[4143][0].reshape(1,1,28,28)) # batch of size 1, 1 color channel, 28x28 image"
      ],
      "metadata": {
        "id": "UjSFrrR5vq3v"
      },
      "execution_count": null,
      "outputs": []
    },
    {
      "cell_type": "code",
      "source": [
        "# print out result\n",
        "new_prediction"
      ],
      "metadata": {
        "id": "xtqSz1g-vs9M"
      },
      "execution_count": null,
      "outputs": []
    },
    {
      "cell_type": "code",
      "source": [
        "# get highest prediction value\n",
        "new_prediction.argmax()"
      ],
      "metadata": {
        "id": "0BSOO_aUwANP"
      },
      "execution_count": null,
      "outputs": []
    },
    {
      "cell_type": "code",
      "source": [],
      "metadata": {
        "id": "SNTb6KCUwGlD"
      },
      "execution_count": null,
      "outputs": []
    }
  ]
}