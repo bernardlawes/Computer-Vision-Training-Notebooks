{
  "cells": [
    {
      "cell_type": "markdown",
      "metadata": {
        "id": "view-in-github",
        "colab_type": "text"
      },
      "source": [
        "<a href=\"https://colab.research.google.com/github/bernardlawes/Model-Training-Notebooks/blob/main/Yolo_8s_Custom_Fire.ipynb\" target=\"_parent\"><img src=\"https://colab.research.google.com/assets/colab-badge.svg\" alt=\"Open In Colab\"/></a>"
      ]
    },
    {
      "cell_type": "markdown",
      "source": [
        "# Set API Keys"
      ],
      "metadata": {
        "id": "tzaG2nptu8uJ"
      }
    },
    {
      "cell_type": "code",
      "execution_count": null,
      "metadata": {
        "id": "uIdou3vcgDTf"
      },
      "outputs": [],
      "source": [
        "from google.colab import userdata\n",
        "MY_SECRET_KEY=userdata.get('ROBOFLOW_API_KEY')"
      ]
    },
    {
      "cell_type": "markdown",
      "source": [
        "# Install Requried Libraries"
      ],
      "metadata": {
        "id": "P2QKmntCvHv0"
      }
    },
    {
      "cell_type": "code",
      "execution_count": null,
      "metadata": {
        "id": "rsEPEvsBf_rm",
        "collapsed": true
      },
      "outputs": [],
      "source": [
        "!pip install ultralytics\n",
        "!pip install roboflow"
      ]
    },
    {
      "cell_type": "markdown",
      "source": [
        "# Import Required Libraries\n",
        "For now this project will use Yolo v8, but I will upgrade to Yolo v11"
      ],
      "metadata": {
        "id": "UqZskdPuvOMz"
      }
    },
    {
      "cell_type": "code",
      "execution_count": null,
      "metadata": {
        "id": "nlhoKsEF7FBl",
        "collapsed": true
      },
      "outputs": [],
      "source": [
        "import ultralytics\n",
        "from roboflow import Roboflow\n",
        "from ultralytics import YOLO\n",
        "from IPython.display import Image\n"
      ]
    },
    {
      "cell_type": "markdown",
      "source": [
        "# Download Labeled Dataset (from Roboflow)"
      ],
      "metadata": {
        "id": "oBH0Aa47vxJd"
      }
    },
    {
      "cell_type": "code",
      "execution_count": null,
      "metadata": {
        "id": "l3gKl33HhfX-"
      },
      "outputs": [],
      "source": [
        "rf = Roboflow(api_key=MY_SECRET_KEY)\n",
        "project = rf.workspace(\"-jwzpw\").project(\"continuous_fire\")\n",
        "version = project.version(6)\n",
        "dataset = version.download(\"yolov8\")"
      ]
    },
    {
      "cell_type": "markdown",
      "source": [
        "# Train a Yolo Model with the Dataset\n",
        "! - command line mode\n",
        "mode=train, task=detect, and model architecture, small version, path to data.yaml, and the epoch count (using 1 for sake of time), choose image size similar to what you'll encounter"
      ],
      "metadata": {
        "id": "i9xRIlBVwCNg"
      }
    },
    {
      "cell_type": "code",
      "execution_count": null,
      "metadata": {
        "id": "dl4uQIWz8BY8"
      },
      "outputs": [],
      "source": [
        "!yolo task=detect mode=train model=yolov8s.pt data=/content/continuous_fire-6/data.yaml epochs=80 imgsz=640 plots=True"
      ]
    },
    {
      "cell_type": "code",
      "execution_count": null,
      "metadata": {
        "id": "Yy6JGxOH8kpU"
      },
      "outputs": [],
      "source": [
        "# VIEW MODEL TRANING CHARTS\n",
        "Image(filename=f'/content/runs/detect/train2/results.png', width=600)"
      ]
    },
    {
      "cell_type": "code",
      "execution_count": null,
      "metadata": {
        "id": "dmQtCDhP9A6_"
      },
      "outputs": [],
      "source": [
        "# VALIDATION\n",
        "!yolo task=detect mode=val model=/content/runs/detect/train2/weights/best.pt data=/content/continuous_fire-6/data.yaml"
      ]
    },
    {
      "cell_type": "code",
      "source": [],
      "metadata": {
        "id": "SX2Gnf_n9act"
      },
      "execution_count": null,
      "outputs": []
    }
  ],
  "metadata": {
    "accelerator": "GPU",
    "colab": {
      "provenance": [],
      "gpuType": "T4",
      "include_colab_link": true
    },
    "kernelspec": {
      "display_name": "Python 3",
      "name": "python3"
    },
    "language_info": {
      "name": "python"
    }
  },
  "nbformat": 4,
  "nbformat_minor": 0
}