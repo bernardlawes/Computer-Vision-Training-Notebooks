{
  "nbformat": 4,
  "nbformat_minor": 0,
  "metadata": {
    "colab": {
      "provenance": [],
      "authorship_tag": "ABX9TyO5xDfpBidt3gw77ViKFcZf",
      "include_colab_link": true
    },
    "kernelspec": {
      "name": "python3",
      "display_name": "Python 3"
    },
    "language_info": {
      "name": "python"
    }
  },
  "cells": [
    {
      "cell_type": "markdown",
      "metadata": {
        "id": "view-in-github",
        "colab_type": "text"
      },
      "source": [
        "<a href=\"https://colab.research.google.com/github/bernardlawes/Python-Playpen/blob/main/Predict_Home_Prices.ipynb\" target=\"_parent\"><img src=\"https://colab.research.google.com/assets/colab-badge.svg\" alt=\"Open In Colab\"/></a>"
      ]
    },
    {
      "cell_type": "code",
      "execution_count": null,
      "metadata": {
        "colab": {
          "base_uri": "https://localhost:8080/"
        },
        "id": "V9RmOB3Ib0SF",
        "outputId": "ba92e723-c175-4c48-c24e-aa44294d89d6"
      },
      "outputs": [
        {
          "output_type": "stream",
          "name": "stdout",
          "text": [
            "Mean Absolute Error: $2569.85\n",
            "Predicted Price for 2500 sqft, 3-bedroom house: $404978.36\n"
          ]
        }
      ],
      "source": [
        "import numpy as np\n",
        "import pandas as pd\n",
        "from sklearn.model_selection import train_test_split\n",
        "from sklearn.linear_model import LinearRegression\n",
        "from sklearn.metrics import mean_absolute_error\n",
        "\n",
        "# 1. Generate synthetic data using NumPy\n",
        "np.random.seed(42)\n",
        "square_feet = np.random.randint(800, 4000, 100)\n",
        "bedrooms = np.random.randint(1, 6, 100)\n",
        "prices = square_feet * 150 + bedrooms * 10000 + np.random.randint(-5000, 5000, 100)\n",
        "\n",
        "# 2. Organize data with Pandas\n",
        "df = pd.DataFrame({\n",
        "    'Square_Feet': square_feet,\n",
        "    'Bedrooms': bedrooms,\n",
        "    'Price': prices\n",
        "})\n",
        "\n",
        "# 3. Prepare data for machine learning\n",
        "X = df[['Square_Feet', 'Bedrooms']]\n",
        "y = df['Price']\n",
        "X_train, X_test, y_train, y_test = train_test_split(X, y, test_size=0.2, random_state=42)\n",
        "\n",
        "# 4. Train a model with Scikit-learn\n",
        "model = LinearRegression()\n",
        "model.fit(X_train, y_train)\n",
        "y_pred = model.predict(X_test)\n",
        "\n",
        "# 5. Evaluate the model\n",
        "mae = mean_absolute_error(y_test, y_pred)\n",
        "print(f'Mean Absolute Error: ${mae:.2f}')\n",
        "\n",
        "# 6. Make a prediction\n",
        "#new_house = np.array([[2500, 3]])  # 2500 sqft, 3 bedrooms\n",
        "# I removed the above because SciKit-Learn is expecting feature names to match the prediction.  The numpy array does not have the feature (column names).. To fix this I'm using\n",
        "# a panda dataframe instad which contains the numberical information i need from the numpy array and the column names i need describing the features.\n",
        "\n",
        "# Create a DataFrame for the new house data, including feature names\n",
        "new_house = pd.DataFrame([[2500, 3]], columns=['Square_Feet', 'Bedrooms'])\n",
        "\n",
        "predicted_price = model.predict(new_house)[0]\n",
        "print(f'Predicted Price for 2500 sqft, 3-bedroom house: ${predicted_price:.2f}')"
      ]
    },
    {
      "cell_type": "code",
      "source": [],
      "metadata": {
        "id": "DE3bWZJFquwK"
      },
      "execution_count": null,
      "outputs": []
    }
  ]
}